{
 "cells": [
  {
   "cell_type": "code",
   "execution_count": 1,
   "id": "e660e764-5d40-4445-b6c7-5e20c2b64df4",
   "metadata": {},
   "outputs": [],
   "source": [
    "import random\n",
    "from colorama import Fore, Style"
   ]
  },
  {
   "cell_type": "code",
   "execution_count": 3,
   "id": "6950377f-e4b5-41ad-ad9d-26e0a2c55853",
   "metadata": {},
   "outputs": [],
   "source": [
    "def print_board(board):\n",
    "    for row in board:\n",
    "        print(\" | \".join(row))\n",
    "        print(\"-\" * 13)"
   ]
  },
  {
   "cell_type": "code",
   "execution_count": 14,
   "id": "dfc2ba5b-5b73-4ebb-9ee4-0cdbc82e4d09",
   "metadata": {},
   "outputs": [],
   "source": [
    "def check_winner(board):\n",
    "    for row in board:\n",
    "        if row.count(row[0]) == len(row) and row[0] != ' ':\n",
    "            return True\n",
    "    for col in range(len(board)):\n",
    "       check = []\n",
    "       for row in board:\n",
    "           check.append(row[col])\n",
    "       if check.count(check[0]) == len(check) and check[0] != ' ':\n",
    "           return True\n",
    "    if board[0][0] == board[1][1] == board[2][2] != ' ':\n",
    "        return True\n",
    "    if board[0][2] == board[1][1] == board[2][0] != ' ':\n",
    "        return True\n",
    "    return False"
   ]
  },
  {
   "cell_type": "code",
   "execution_count": 16,
   "id": "c3a421b7-776c-434e-8f19-164111f83d2f",
   "metadata": {},
   "outputs": [],
   "source": [
    "def is_board_full(board):\n",
    "    return all(all(cell != ' ' for cell in row) for row in board)"
   ]
  },
  {
   "cell_type": "code",
   "execution_count": 18,
   "id": "40c1131d-76d3-4ea4-a9ea-2d8c22126349",
   "metadata": {},
   "outputs": [],
   "source": [
    "def get_empty_cells(board):\n",
    "    return [(i, j) for i in range(3) for j in range(3) if board[i][j] == ' ']"
   ]
  },
  {
   "cell_type": "code",
   "execution_count": 20,
   "id": "47c7eb53-208e-4b77-8bac-4d50f0752e03",
   "metadata": {},
   "outputs": [],
   "source": [
    "def minimax(board, depth, is_maximizing):\n",
    "    scores = {'X': -1, 'O': 1, 'tie': 0, ' ': 0}\n",
    "    if check_winner(board):\n",
    "        return scores[board[1][1]]\n",
    "    if is_board_full(board):\n",
    "        return scores['tie']\n",
    "    if is_maximizing:\n",
    "        max_eval = float('-inf')\n",
    "        for i, j in get_empty_cells(board):\n",
    "            board[i][j] = 'O'\n",
    "            eval = minimax(board, depth + 1, False)\n",
    "            board[i][j] = ' '\n",
    "            max_eval = max(max_eval, eval)\n",
    "        return max_eval\n",
    "    else:\n",
    "        min_eval = float('inf')\n",
    "        for i, j in get_empty_cells(board):\n",
    "            board[i][j] = 'X'\n",
    "            eval = minimax(board, depth + 1, True)\n",
    "            board[i][j] = ' '\n",
    "            min_eval = min(min_eval, eval)\n",
    "        return min_eval\n",
    "def best_move(board):\n",
    "    best_val = float('-inf')\n",
    "    best_move = (-1, -1)\n",
    "    for i, j in get_empty_cells(board):\n",
    "        board[i][j] = 'O'\n",
    "        move_val = minimax(board, 0, False)\n",
    "        board[i][j] = ' '\n",
    "        if move_val > best_val:\n",
    "            best_move = (i, j)\n",
    "            best_val = move_val\n",
    "    return best_move"
   ]
  },
  {
   "cell_type": "code",
   "execution_count": 26,
   "id": "86c21e5b-4f9b-47dc-a356-33b567cc5c42",
   "metadata": {},
   "outputs": [
    {
     "name": "stdout",
     "output_type": "stream",
     "text": [
      "  |   |  \n",
      "-------------\n",
      "  |   |  \n",
      "-------------\n",
      "  |   |  \n",
      "-------------\n",
      "\u001b[31mAI's turn ---O---\u001b[0m\n",
      "  |   |  \n",
      "-------------\n",
      "  | O |  \n",
      "-------------\n",
      "  |   |  \n",
      "-------------\n",
      "\u001b[34mYour turn ---X---\u001b[0m\n"
     ]
    },
    {
     "name": "stdin",
     "output_type": "stream",
     "text": [
      "Enter row (0, 1, or 2):  0\n",
      "Enter column (0, 1, or 2):  1\n"
     ]
    },
    {
     "name": "stdout",
     "output_type": "stream",
     "text": [
      "  | X |  \n",
      "-------------\n",
      "  | O |  \n",
      "-------------\n",
      "  |   |  \n",
      "-------------\n",
      "\u001b[31mAI's turn ---O---\u001b[0m\n",
      "O | X |  \n",
      "-------------\n",
      "  | O |  \n",
      "-------------\n",
      "  |   |  \n",
      "-------------\n",
      "\u001b[34mYour turn ---X---\u001b[0m\n"
     ]
    },
    {
     "name": "stdin",
     "output_type": "stream",
     "text": [
      "Enter row (0, 1, or 2):  0\n",
      "Enter column (0, 1, or 2):  2\n"
     ]
    },
    {
     "name": "stdout",
     "output_type": "stream",
     "text": [
      "O | X | X\n",
      "-------------\n",
      "  | O |  \n",
      "-------------\n",
      "  |   |  \n",
      "-------------\n",
      "\u001b[31mAI's turn ---O---\u001b[0m\n",
      "O | X | X\n",
      "-------------\n",
      "O | O |  \n",
      "-------------\n",
      "  |   |  \n",
      "-------------\n",
      "\u001b[34mYour turn ---X---\u001b[0m\n"
     ]
    },
    {
     "name": "stdin",
     "output_type": "stream",
     "text": [
      "Enter row (0, 1, or 2):  0\n",
      "Enter column (0, 1, or 2):  1\n"
     ]
    },
    {
     "name": "stdout",
     "output_type": "stream",
     "text": [
      "Cell already occupied. Try again.\n",
      "O | X | X\n",
      "-------------\n",
      "O | O |  \n",
      "-------------\n",
      "  |   |  \n",
      "-------------\n",
      "\u001b[34mYour turn ---X---\u001b[0m\n"
     ]
    },
    {
     "name": "stdin",
     "output_type": "stream",
     "text": [
      "Enter row (0, 1, or 2):  1\n",
      "Enter column (0, 1, or 2):  2\n"
     ]
    },
    {
     "name": "stdout",
     "output_type": "stream",
     "text": [
      "O | X | X\n",
      "-------------\n",
      "O | O | X\n",
      "-------------\n",
      "  |   |  \n",
      "-------------\n",
      "\u001b[31mAI's turn ---O---\u001b[0m\n",
      "O | X | X\n",
      "-------------\n",
      "O | O | X\n",
      "-------------\n",
      "O |   |  \n",
      "-------------\n",
      "\n",
      "==============================================================\n",
      "\n",
      "\u001b[32mO wins...!!!\u001b[0m\n",
      "\n",
      "==============================================================\n",
      "\n"
     ]
    }
   ],
   "source": [
    "def main():\n",
    "    board = [[' ' for _ in range(3)] for _ in range(3)]\n",
    "    player_turn = random.choice([True, False])\n",
    "\n",
    "    while True:\n",
    "        print_board(board)\n",
    "\n",
    "        if player_turn:\n",
    "            print(Fore.BLUE + \"Your turn ---X---\" + Style.RESET_ALL)\n",
    "            row = int(input(\"Enter row (0, 1, or 2): \"))\n",
    "            col = int(input(\"Enter column (0, 1, or 2): \"))\n",
    "        else:\n",
    "            print(Fore.RED + \"AI's turn ---O---\" + Style.RESET_ALL)\n",
    "            row, col = best_move(board)\n",
    "\n",
    "        if board[row][col] == ' ':\n",
    "            symbol = 'X' if player_turn else 'O'\n",
    "            board[row][col] = symbol\n",
    "\n",
    "            if check_winner(board):\n",
    "                print_board(board)\n",
    "                print('\\n==============================================================\\n')\n",
    "                print(Fore.GREEN + f\"{symbol} wins...!!!\" + Style.RESET_ALL)\n",
    "                print('\\n==============================================================\\n')\n",
    "                break\n",
    "\n",
    "            if is_board_full(board):\n",
    "                print_board(board)\n",
    "                print(\"It's a tie!\")\n",
    "                break\n",
    "\n",
    "            player_turn = not player_turn\n",
    "\n",
    "        else:\n",
    "            print(\"Cell already occupied. Try again.\")\n",
    "\n",
    "if __name__ == \"__main__\":\n",
    "    main()"
   ]
  },
  {
   "cell_type": "code",
   "execution_count": null,
   "id": "a1a78aed-0dff-4ab8-8d73-bf2972657d0e",
   "metadata": {},
   "outputs": [],
   "source": []
  }
 ],
 "metadata": {
  "kernelspec": {
   "display_name": "Python 3 (ipykernel)",
   "language": "python",
   "name": "python3"
  },
  "language_info": {
   "codemirror_mode": {
    "name": "ipython",
    "version": 3
   },
   "file_extension": ".py",
   "mimetype": "text/x-python",
   "name": "python",
   "nbconvert_exporter": "python",
   "pygments_lexer": "ipython3",
   "version": "3.12.4"
  }
 },
 "nbformat": 4,
 "nbformat_minor": 5
}
