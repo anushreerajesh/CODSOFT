{
 "cells": [
  {
   "cell_type": "code",
   "execution_count": 7,
   "id": "6ed39e98-be9e-405e-a63e-eb8f8579888f",
   "metadata": {},
   "outputs": [],
   "source": [
    "data={\n",
    "    \"Hello\":\"Hello, I am here to assist you, how can I help you?\", \n",
    "    \"Hi\":\"Hi, I am here to assist you, how can i help you?\",\n",
    "    \"What is your name?\":\"I am your assistant, everyone here calls me Chatbot\",\n",
    "    \"Where are you from?\":\"I am from AI universe!\",\n",
    "    \"What are you doing right now?\":\"I am here helping you solve your problem\",\n",
    "    \"What are your hobbies?\":\"My hobbie is to help everyone and keep them happy\",\n",
    "    \"When can i ask you questions?\":\"You can ask me anything, anytime! I am always at your service\",\n",
    "    \"bye\":\"Bye! Do feel free to ask me anything! Have a great day!\"\n",
    "}"
   ]
  },
  {
   "cell_type": "code",
   "execution_count": null,
   "id": "36e04e1f-d884-44b9-b4c9-ef6a8e86aa98",
   "metadata": {},
   "outputs": [
    {
     "name": "stdout",
     "output_type": "stream",
     "text": [
      "Chatbot:Hello, I am here to assist you, how can I help you?\n"
     ]
    },
    {
     "name": "stdin",
     "output_type": "stream",
     "text": [
      "Me:  Hi\n"
     ]
    },
    {
     "name": "stdout",
     "output_type": "stream",
     "text": [
      "Chatbot:  Hi, I am here to assist you, how can i help you?\n"
     ]
    },
    {
     "name": "stdin",
     "output_type": "stream",
     "text": [
      "Me:  When can i ask you questions?\n"
     ]
    },
    {
     "name": "stdout",
     "output_type": "stream",
     "text": [
      "Chatbot:  You can ask me anything, anytime! I am always at your service\n"
     ]
    },
    {
     "name": "stdin",
     "output_type": "stream",
     "text": [
      "Me:  What are you doing right now?\n"
     ]
    },
    {
     "name": "stdout",
     "output_type": "stream",
     "text": [
      "Chatbot:  I am here helping you solve your problem\n"
     ]
    },
    {
     "name": "stdin",
     "output_type": "stream",
     "text": [
      "Me:  what is your name?\n"
     ]
    },
    {
     "name": "stdout",
     "output_type": "stream",
     "text": [
      "Chatbot:  I am sorry, I dont understand that!\n"
     ]
    },
    {
     "name": "stdin",
     "output_type": "stream",
     "text": [
      "Me:  What is your name?\n"
     ]
    },
    {
     "name": "stdout",
     "output_type": "stream",
     "text": [
      "Chatbot:  I am your assistant, everyone here calls me Chatbot\n"
     ]
    }
   ],
   "source": [
    "def response_received(user):\n",
    "    for pattern, response in data.items():\n",
    "        if pattern in user:\n",
    "            return response\n",
    "    return \"I am sorry, I dont understand that!\"\n",
    "print(\"Chatbot:Hello, I am here to assist you, how can I help you?\")\n",
    "while True:\n",
    "    user=input(\"Me: \")\n",
    "    if user==\"bye\":\n",
    "        print(\"Chatbot: Bye! Do feel free to ask me anything again! have a great day\")\n",
    "        break \n",
    "    response=response_received(user)\n",
    "    print(\"Chatbot: \", response)"
   ]
  },
  {
   "cell_type": "code",
   "execution_count": null,
   "id": "ce524e24-a3e9-4f66-ab8b-c8c0ca9baca8",
   "metadata": {},
   "outputs": [],
   "source": []
  }
 ],
 "metadata": {
  "kernelspec": {
   "display_name": "Python 3 (ipykernel)",
   "language": "python",
   "name": "python3"
  },
  "language_info": {
   "codemirror_mode": {
    "name": "ipython",
    "version": 3
   },
   "file_extension": ".py",
   "mimetype": "text/x-python",
   "name": "python",
   "nbconvert_exporter": "python",
   "pygments_lexer": "ipython3",
   "version": "3.12.4"
  }
 },
 "nbformat": 4,
 "nbformat_minor": 5
}
