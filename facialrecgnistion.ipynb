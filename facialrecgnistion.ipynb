{
 "cells": [
  {
   "cell_type": "code",
   "execution_count": 1,
   "id": "68c77a5e-4e66-448b-b37f-772d865c12ea",
   "metadata": {},
   "outputs": [],
   "source": [
    "import cv2"
   ]
  },
  {
   "cell_type": "code",
   "execution_count": null,
   "id": "3d5c0009-07c8-48f1-b64d-df432a6a3e6f",
   "metadata": {},
   "outputs": [],
   "source": [
    "def draw_boundary(img,classifier,scaleFactor,minNeighbors,color,text):\n",
    "    gray_img=cv2.cvtColor(img,cv2.COLOR_BGR2GRAY)\n",
    "    features=classifier.detectMultiScale(gray_img,scaleFactor,minNeighbors)\n",
    "    coords=[]\n",
    "    for (x,y,w,h) in features:\n",
    "        cv2.rectangle(img, (x,y), (x+w,y+h), color ,2)\n",
    "        cv2.putText(img,text,(x,y-4),cv2.FONT_HERSHEY_SIMPLEX,0.8,color,1,cv2.LINE_AA)\n",
    "        coords=[x,y,w,h]   \n",
    "    return coords,img"
   ]
  },
  {
   "cell_type": "code",
   "execution_count": null,
   "id": "564581ba-a7b8-46c2-ae93-ddfad1101424",
   "metadata": {},
   "outputs": [],
   "source": [
    "import cv2\n",
    "def detect(img,faceCascade):\n",
    "    color= {\"blue\":(255,0,0),\"red\":(0,0,255),\"green\":(0,255,0)}\n",
    "    coords,img=draw_boundary(img,faceCascade,1.1,10,color[\"green\"],\"Rajesh\")\n",
    "    return img\n",
    "faceCascade=cv2.CascadeClassifier(\"haarcascade_frontalface_default.xml\")\n",
    "vid_cap=cv2.VideoCapture(0)\n",
    "while True:\n",
    "    _, img=vid_cap.read()\n",
    "    img=detect(img,faceCascade)\n",
    "    cv2.imshow(\"Face Detection\",img)\n",
    "    if cv2.waitKey(1) & 0xFF == ord(\"q\"):\n",
    "        break\n",
    "vid_cap.release()\n",
    "cv2.destroyAllWindows()"
   ]
  },
  {
   "cell_type": "code",
   "execution_count": null,
   "id": "f717e585-5943-4108-8cd6-46f283b560c1",
   "metadata": {},
   "outputs": [],
   "source": []
  }
 ],
 "metadata": {
  "kernelspec": {
   "display_name": "Python 3 (ipykernel)",
   "language": "python",
   "name": "python3"
  },
  "language_info": {
   "codemirror_mode": {
    "name": "ipython",
    "version": 3
   },
   "file_extension": ".py",
   "mimetype": "text/x-python",
   "name": "python",
   "nbconvert_exporter": "python",
   "pygments_lexer": "ipython3",
   "version": "3.12.4"
  }
 },
 "nbformat": 4,
 "nbformat_minor": 5
}
